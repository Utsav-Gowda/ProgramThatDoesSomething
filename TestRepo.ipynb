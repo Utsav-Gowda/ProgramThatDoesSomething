{
 "cells": [
  {
   "cell_type": "code",
   "execution_count": 15,
   "id": "05bd5841-486f-4486-abce-848220a6e9c6",
   "metadata": {},
   "outputs": [
    {
     "name": "stdin",
     "output_type": "stream",
     "text": [
      "Whats your name? ug\n"
     ]
    },
    {
     "name": "stdout",
     "output_type": "stream",
     "text": [
      "ug\n"
     ]
    },
    {
     "name": "stdin",
     "output_type": "stream",
     "text": [
      "What's your age? 5\n"
     ]
    },
    {
     "name": "stdout",
     "output_type": "stream",
     "text": [
      "Your name is ugand you are5\n"
     ]
    }
   ],
   "source": [
    "name = input(\"Whats your name?\")\n",
    "print(name)\n",
    "age = input(\"What's your age?\")\n",
    "print(\"Your name is \" + name + \"and you are \" + age)"
   ]
  },
  {
   "cell_type": "code",
   "execution_count": null,
   "id": "e15408d5-911d-4cbb-a127-b03cb7a17e6f",
   "metadata": {},
   "outputs": [],
   "source": []
  },
  {
   "cell_type": "code",
   "execution_count": null,
   "id": "71136e34-9add-4c12-b347-e4ef2e724ce3",
   "metadata": {},
   "outputs": [],
   "source": []
  },
  {
   "cell_type": "code",
   "execution_count": null,
   "id": "11e018cd-3896-481e-9e09-f0ca2d6ff50d",
   "metadata": {},
   "outputs": [],
   "source": []
  }
 ],
 "metadata": {
  "kernelspec": {
   "display_name": "Python 3 (ipykernel)",
   "language": "python",
   "name": "python3"
  },
  "language_info": {
   "codemirror_mode": {
    "name": "ipython",
    "version": 3
   },
   "file_extension": ".py",
   "mimetype": "text/x-python",
   "name": "python",
   "nbconvert_exporter": "python",
   "pygments_lexer": "ipython3",
   "version": "3.12.4"
  }
 },
 "nbformat": 4,
 "nbformat_minor": 5
}
